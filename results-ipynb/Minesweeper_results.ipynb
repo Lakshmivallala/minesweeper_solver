{
 "cells": [
  {
   "cell_type": "markdown",
   "metadata": {},
   "source": [
    "# Results\n",
    "## Evolutionary Strategies and Reinforcement Learning applied to Minesweeper"
   ]
  },
  {
   "cell_type": "markdown",
   "metadata": {},
   "source": [
    "**Authors**\n",
    "\n",
    "_Jacob J. Hansen (s134097), Jakob D. Havtorn (s132315),_\n",
    "\n",
    "_Mathias G. Johnsen (s123249) and Andreas T. Kristensen (s144026)_"
   ]
  },
  {
   "cell_type": "markdown",
   "metadata": {},
   "source": [
    "### Initialization"
   ]
  },
  {
   "cell_type": "code",
   "execution_count": 1,
   "metadata": {},
   "outputs": [
    {
     "name": "stderr",
     "output_type": "stream",
     "text": [
      "Using Theano backend.\n"
     ]
    }
   ],
   "source": [
    "# Initialization\n",
    "import multiprocessing as mp\n",
    "import os\n",
    "import pstats\n",
    "import time\n",
    "import gym\n",
    "import numpy as np\n",
    "from keras.layers import Dense, Conv2D, Flatten\n",
    "from keras.models import Input, Model, Sequential, clone_model, load_model\n",
    "from keras.optimizers import Adam\n",
    "\n",
    "from minesweeper_tk import Minesweeper\n",
    "\n",
    "save_dir = ''\n",
    "mp.freeze_support()"
   ]
  },
  {
   "cell_type": "markdown",
   "metadata": {},
   "source": [
    "### Evolutionary Strategies"
   ]
  },
  {
   "cell_type": "code",
   "execution_count": 2,
   "metadata": {
    "collapsed": true
   },
   "outputs": [],
   "source": [
    "# Define fitness evaluation function\n",
    "def fitnessfun(env, model):\n",
    "    total_reward = 0\n",
    "    done = False\n",
    "    observation = env.reset()\n",
    "    steps = 0\n",
    "    while not done and steps < rows*cols-mines:\n",
    "        # Predict action\n",
    "        action = model.predict(observation.reshape((1, rows, cols, n_chs)))\n",
    "        # Mask invalid moves (no need to renormalize when argmaxing)\n",
    "        mask = env.get_validMoves().flatten()\n",
    "        action[0, ~mask] = 0\n",
    "        # Step and get reward\n",
    "        observation, reward, done, info = env.step(np.argmax(action))\n",
    "        total_reward += reward\n",
    "        steps += 1\n",
    "    win = True if done and reward is 0.9 else False\n",
    "    return total_reward, {'steps': steps, 'win': win}\n",
    "\n",
    "# Define test function\n",
    "def testfun(env, model, episodes):\n",
    "    total_reward = 0\n",
    "    wins = 0\n",
    "    for i in range(episodes):\n",
    "        observation = env.reset()\n",
    "        done = False\n",
    "        t = 0\n",
    "        while not done and t < rows*cols-mines:\n",
    "            action = model.predict(observation.reshape((1, rows, cols, n_chs)))\n",
    "            observation, reward, done, info = env.step(np.argmax(action))\n",
    "            total_reward += reward\n",
    "            t += 1\n",
    "        if i % 100 == 0:\n",
    "            print('Episode: {: >3d}'.format(i))\n",
    "        wins += 1 if done and reward is 0.9 else 0\n",
    "    return total_reward/episodes, t, wins"
   ]
  },
  {
   "cell_type": "code",
   "execution_count": 3,
   "metadata": {
    "collapsed": true
   },
   "outputs": [],
   "source": [
    "# Define environment \n",
    "rows = 4\n",
    "cols = 4\n",
    "mines = 4\n",
    "OUT = 'FULL'\n",
    "rewards_structure = {\"win\": 0.9, \"loss\": -1, \"progress\": 0.9, \"noprogress\": -0.3, \"YOLO\": -0.3}\n",
    "env = Minesweeper(display=False, OUT=OUT, ROWS=rows, COLS=cols, MINES=mines, rewards=rewards_structure)"
   ]
  },
  {
   "cell_type": "code",
   "execution_count": 4,
   "metadata": {},
   "outputs": [
    {
     "name": "stdout",
     "output_type": "stream",
     "text": [
      "_________________________________________________________________\n",
      "Layer (type)                 Output Shape              Param #   \n",
      "=================================================================\n",
      "conv2d_1 (Conv2D)            (None, 4, 4, 15)          3765      \n",
      "_________________________________________________________________\n",
      "conv2d_2 (Conv2D)            (None, 4, 4, 35)          4760      \n",
      "_________________________________________________________________\n",
      "flatten_1 (Flatten)          (None, 560)               0         \n",
      "_________________________________________________________________\n",
      "dense_1 (Dense)              (None, 200)               112200    \n",
      "_________________________________________________________________\n",
      "dense_2 (Dense)              (None, 200)               40200     \n",
      "_________________________________________________________________\n",
      "dense_3 (Dense)              (None, 200)               40200     \n",
      "_________________________________________________________________\n",
      "dense_4 (Dense)              (None, 200)               40200     \n",
      "_________________________________________________________________\n",
      "dense_5 (Dense)              (None, 16)                3216      \n",
      "=================================================================\n",
      "Total params: 244,541\n",
      "Trainable params: 244,541\n",
      "Non-trainable params: 0\n",
      "_________________________________________________________________\n"
     ]
    }
   ],
   "source": [
    "# Define model\n",
    "obs = env.reset()\n",
    "n_chs = obs.shape[-1]\n",
    "n_hidden = [200, 200, 200, 200]\n",
    "n_outputs = rows*cols\n",
    "model = Sequential()\n",
    "# Convs\n",
    "model.add(Conv2D(15, (5, 5), input_shape=(rows, cols, n_chs), padding='same', activation='relu'))\n",
    "model.add(Conv2D(35, (3, 3), padding='same', activation='relu'))\n",
    "# Dense\n",
    "model.add(Flatten())\n",
    "model.add(Dense(units=n_hidden[0],\n",
    "                activation='relu',\n",
    "                kernel_initializer='glorot_uniform',\n",
    "                bias_initializer='zeros',\n",
    "                kernel_regularizer=None,#l2(reg),\n",
    "                bias_regularizer=None))#l2(reg)))\n",
    "# Hidden\n",
    "for n_units in n_hidden[1:]:\n",
    "    model.add(Dense(units=n_units,\n",
    "                    activation='relu',\n",
    "                    kernel_initializer='glorot_uniform',\n",
    "                    bias_initializer='zeros',\n",
    "                    kernel_regularizer=None,#l2(reg),\n",
    "                    bias_regularizer=None))#l2(reg)))\n",
    "# Output\n",
    "model.add(Dense(units=n_outputs,\n",
    "                activation='softmax',\n",
    "                kernel_initializer='glorot_uniform',\n",
    "                bias_initializer='zeros',\n",
    "                kernel_regularizer=None,\n",
    "                bias_regularizer=None))\n",
    "\n",
    "model.compile(optimizer='rmsprop', loss='mean_squared_error')\n",
    "model.summary()"
   ]
  },
  {
   "cell_type": "code",
   "execution_count": 5,
   "metadata": {
    "collapsed": true
   },
   "outputs": [],
   "source": [
    "# (Train)\n",
    "do_train = False\n",
    "if do_train:\n",
    "    from context import core\n",
    "    from core.strategies import ES\n",
    "    regu = 0.01\n",
    "    nags = 20\n",
    "    lrte = 0.01\n",
    "    sigm = 0.01\n",
    "    cint = 100\n",
    "    nwrk = mp.cpu_count()\n",
    "    e = ES(fun=fitnessfun, model=model, env=env, reg={'L2': regu}, population=nags, learning_rate=lrte, sigma=sigm, workers=nwrk, save_dir=save_dir)\n",
    "    e.evolve(ngns, checkpoint_every=cint, plot_every=cint)"
   ]
  },
  {
   "cell_type": "code",
   "execution_count": 7,
   "metadata": {},
   "outputs": [
    {
     "name": "stdout",
     "output_type": "stream",
     "text": [
      "Episode:   0\n",
      "Episode: 100\n",
      "Episode: 200\n",
      "Episode: 300\n",
      "Episode: 400\n",
      "Episode: 500\n",
      "Episode: 600\n",
      "Episode: 700\n",
      "Episode: 800\n",
      "Episode: 900\n",
      "Win rate: 0.0\n",
      "Average test reward: -0.38010000000001887\n"
     ]
    }
   ],
   "source": [
    "# Load pretrained model\n",
    "test_episodes = 1000\n",
    "model = load_model('es-model.h5')\n",
    "env = Minesweeper(display=False, OUT=OUT, ROWS=rows, COLS=cols, MINES=mines, rewards=rewards_structure)\n",
    "\n",
    "# Run game env and save rewards and winrate for 100 games\n",
    "average_reward, _, wins = testfun(env, model, test_episodes)\n",
    "print('Win rate: {}'.format(wins/test_episodes))\n",
    "print('Average test reward: {}'.format(average_reward))"
   ]
  },
  {
   "cell_type": "markdown",
   "metadata": {},
   "source": [
    "### Q-Learning"
   ]
  },
  {
   "cell_type": "code",
   "execution_count": 1,
   "metadata": {
    "collapsed": true
   },
   "outputs": [],
   "source": [
    "# Load the function\n",
    "import os\n",
    "import sys\n",
    "os.environ['TF_CPP_MIN_LOG_LEVEL'] = '3' \n",
    "sys.path.append('q_learning')\n",
    "from train import *\n",
    "tf.reset_default_graph()"
   ]
  },
  {
   "cell_type": "code",
   "execution_count": 2,
   "metadata": {},
   "outputs": [
    {
     "name": "stdout",
     "output_type": "stream",
     "text": [
      "Test minesweeper model on 6x6 board with 6 mines\n",
      "INFO:tensorflow:Restoring parameters from /home/andreas/github/minesweeper_solver/results-ipynb/q_learning/output_best/checkpoints_minesweeper/model-best\n",
      "  Win Rate: 90.20\n"
     ]
    }
   ],
   "source": [
    "# Get the 90.20 win-rate\n",
    "setup_model(1)"
   ]
  },
  {
   "cell_type": "code",
   "execution_count": null,
   "metadata": {},
   "outputs": [
    {
     "name": "stdout",
     "output_type": "stream",
     "text": [
      "Test minesweeper model on 6x6 board with a random number of mines\n",
      "\n",
      "Testing with best model on random number of mines\n",
      "Mines = 1\n",
      "INFO:tensorflow:Restoring parameters from /home/andreas/github/minesweeper_solver/results-ipynb/q_learning/output_best/checkpoints_minesweeper/model-best-random\n"
     ]
    }
   ],
   "source": [
    "# Get the win-rates for different number of mines\n",
    "tf.reset_default_graph()\n",
    "setup_model(2)"
   ]
  },
  {
   "cell_type": "code",
   "execution_count": null,
   "metadata": {
    "collapsed": true
   },
   "outputs": [],
   "source": [
    "tf.reset_default_graph()\n",
    "setup_model(0)"
   ]
  },
  {
   "cell_type": "markdown",
   "metadata": {},
   "source": [
    "### Policy Gradient"
   ]
  },
  {
   "cell_type": "code",
   "execution_count": 1,
   "metadata": {},
   "outputs": [
    {
     "ename": "IndexError",
     "evalue": "list index out of range",
     "output_type": "error",
     "traceback": [
      "\u001b[0;31m---------------------------------------------------------------------------\u001b[0m",
      "\u001b[0;31mIndexError\u001b[0m                                Traceback (most recent call last)",
      "\u001b[0;32m<ipython-input-1-6d8ec3f6ced4>\u001b[0m in \u001b[0;36m<module>\u001b[0;34m()\u001b[0m\n\u001b[1;32m     19\u001b[0m     \u001b[0mtrain_r\u001b[0m\u001b[0;34m.\u001b[0m\u001b[0mappend\u001b[0m\u001b[0;34m(\u001b[0m\u001b[0mstat\u001b[0m\u001b[0;34m[\u001b[0m\u001b[0;36m2\u001b[0m\u001b[0;34m]\u001b[0m\u001b[0;34m/\u001b[0m\u001b[0;36m1.5\u001b[0m\u001b[0;34m)\u001b[0m\u001b[0;34m\u001b[0m\u001b[0m\n\u001b[1;32m     20\u001b[0m     \u001b[0mloss\u001b[0m\u001b[0;34m.\u001b[0m\u001b[0mappend\u001b[0m\u001b[0;34m(\u001b[0m\u001b[0mstat\u001b[0m\u001b[0;34m[\u001b[0m\u001b[0;36m3\u001b[0m\u001b[0;34m]\u001b[0m\u001b[0;34m)\u001b[0m\u001b[0;34m\u001b[0m\u001b[0m\n\u001b[0;32m---> 21\u001b[0;31m     \u001b[0mwinrate\u001b[0m\u001b[0;34m.\u001b[0m\u001b[0mappend\u001b[0m\u001b[0;34m(\u001b[0m\u001b[0mstat\u001b[0m\u001b[0;34m[\u001b[0m\u001b[0;36m4\u001b[0m\u001b[0;34m]\u001b[0m\u001b[0;34m)\u001b[0m\u001b[0;34m\u001b[0m\u001b[0m\n\u001b[0m\u001b[1;32m     22\u001b[0m \u001b[0;34m\u001b[0m\u001b[0m\n\u001b[1;32m     23\u001b[0m \u001b[0;34m\u001b[0m\u001b[0m\n",
      "\u001b[0;31mIndexError\u001b[0m: list index out of range"
     ]
    }
   ],
   "source": [
    "#import os\n",
    "#os._exit(00) # Restart jyputer Python kernel\n",
    "# Load model weights\n",
    "# Run game env and save rewards and winrate for 100 games\n",
    "import numpy as np\n",
    "import pandas as pd\n",
    "import IPython\n",
    "import matplotlib.pyplot as plt\n",
    "import pickle \n",
    "epochs = []\n",
    "steps = []\n",
    "train_r = []\n",
    "loss = []\n",
    "winrate = []\n",
    "\n",
    "stats = pickle.load(open(\"minesweeper/stats.p\", \"rb\"))\n",
    "for stat in stats:\n",
    "    steps.append(stat[1])\n",
    "    train_r.append(stat[2]/1.5)\n",
    "    loss.append(stat[3])\n",
    "    winrate.append(stat[4])\n",
    "\n",
    "   \n",
    "plt.rcParams.update({'font.size': 33}) \n",
    "f, (ax1, ax2) = plt.subplots(2, 1, sharex=True)\n",
    "\n",
    "ax1.plot(steps, train_r, steps, loss)\n",
    "ax1.grid()\n",
    "ax1.legend([\"train reward\", \"loss\"])\n",
    "\n",
    "ax2.plot(steps, winrate, linewidth = 4.0)\n",
    "ax2.legend([\"win rate\"])\n",
    "plt.xlabel('Steps / Actions')\n",
    "ax2.grid()\n",
    "\n",
    "plt.show()"
   ]
  },
  {
   "cell_type": "markdown",
   "metadata": {},
   "source": [
    "### Comparison"
   ]
  },
  {
   "cell_type": "code",
   "execution_count": null,
   "metadata": {
    "collapsed": true
   },
   "outputs": [],
   "source": [
    "# Plot rewards and winrate in a single plot for comparison"
   ]
  },
  {
   "cell_type": "code",
   "execution_count": null,
   "metadata": {
    "collapsed": true
   },
   "outputs": [],
   "source": []
  }
 ],
 "metadata": {
  "kernelspec": {
   "display_name": "Python [conda env:tensorflow]",
   "language": "python",
   "name": "conda-env-tensorflow-py"
  },
  "language_info": {
   "codemirror_mode": {
    "name": "ipython",
    "version": 3
   },
   "file_extension": ".py",
   "mimetype": "text/x-python",
   "name": "python",
   "nbconvert_exporter": "python",
   "pygments_lexer": "ipython3",
   "version": "3.5.4"
  }
 },
 "nbformat": 4,
 "nbformat_minor": 2
}
